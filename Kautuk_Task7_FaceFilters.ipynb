{
 "cells": [
  {
   "cell_type": "markdown",
   "metadata": {},
   "source": [
    "## TASK: Detect faces in video feed from live webcam"
   ]
  },
  {
   "cell_type": "markdown",
   "metadata": {},
   "source": [
    "### Steps\n",
    "- Import the libraries\n",
    "- Collect pre-trained HAAR Cascade filters (xml)\n",
    "- Create a Cascade Classifier with those filters\n",
    "- Capture video feed from webcam\n",
    "- Display the video frame\n",
    "- Convert the RGB frame into GrayScale\n",
    "- Detect faces with the Cascade Classifier\n",
    "- Find Face (Region of Interest)\n",
    "- Draw rectangle around face\n",
    "- Detect eyes with the Eyes Cascade classifier\n",
    "- Draw circles for detected eyes\n",
    "- Show the detected face region with detected eyes"
   ]
  },
  {
   "cell_type": "markdown",
   "metadata": {},
   "source": [
    "### Putting it all together"
   ]
  },
  {
   "cell_type": "code",
   "execution_count": 27,
   "metadata": {},
   "outputs": [],
   "source": [
    "import cv2\n",
    "import os\n",
    "\n",
    "cascPathface = os.path.dirname(\n",
    "    cv2.__file__) + \"/data/haarcascade_frontalface_alt2.xml\"\n",
    "cascPatheyes = os.path.dirname(\n",
    "    cv2.__file__) + \"/data/haarcascade_eye_tree_eyeglasses.xml\"\n",
    "\n",
    "# Get image and shape\n",
    "image = cv2.imread(\"dogface.png\")\n",
    "o_img_h, o_img_w, o_color = image.shape\n",
    "\n",
    "# convert to gray\n",
    "image_gray = cv2.cvtColor(image, cv2.COLOR_BGR2GRAY)\n",
    "\n",
    "# Create mask and inverse mask\n",
    "ret, o_img_mask = cv2.threshold(image_gray, 10, 255, cv2.THRESH_BINARY_INV)\n",
    "o_img_mask_inv = cv2.bitwise_not(o_img_mask)\n",
    "\n",
    "\n",
    "faceCascade = cv2.CascadeClassifier(cascPathface)\n",
    "eyeCascade = cv2.CascadeClassifier(cascPatheyes)\n",
    "\n",
    "video_capture = cv2.VideoCapture(0)\n",
    "ret, frame = video_capture.read()\n",
    "frame_h, frame_w = frame.shape[:2]\n",
    "\n",
    "while True:\n",
    "    # Capture frame-by-frame\n",
    "    ret, frame = video_capture.read()\n",
    "    gray = cv2.cvtColor(frame, cv2.COLOR_BGR2GRAY)\n",
    "    faces = faceCascade.detectMultiScale(gray,\n",
    "                                         scaleFactor=1.3,\n",
    "                                         minNeighbors=5,\n",
    "                                         flags=cv2.CASCADE_SCALE_IMAGE)\n",
    "    \n",
    "    for (x,y,w,h) in faces:\n",
    "        face_w = w\n",
    "        face_h = h\n",
    "        face_x1 = x\n",
    "        face_x2 = face_x1 + face_w\n",
    "        face_y1 = y\n",
    "        face_y2 = face_y1 + face_h\n",
    "\n",
    "        dog_width = int(1.5 * face_w)\n",
    "        dog_height = int(1.5 * face_h)\n",
    "\n",
    "        dog_x1 = face_x2 - int(face_w / 2) - int(dog_width / 2)\n",
    "        dog_x2 = dog_x1 + dog_width\n",
    "        dog_y1 = int(face_y1 / 1.5)\n",
    "        dog_y2 = dog_y1 + dog_height \n",
    "\n",
    "        if dog_x1 < 0:\n",
    "            dog_x1 = 0\n",
    "        if dog_y1 < 0:\n",
    "            dog_y1 = 0\n",
    "        if dog_x2 > frame_w:\n",
    "            dog_x2 = frame_w\n",
    "        if dog_y2 > frame_h:\n",
    "            dog_y2 = frame_h\n",
    "\n",
    "        dog_width = dog_x2 - dog_x1\n",
    "        dog_height = dog_y2 - dog_y1\n",
    "\n",
    "        #resize dog_img to fit on face\n",
    "        dog = cv2.resize(image, (dog_width, dog_height), interpolation = cv2.INTER_AREA)\n",
    "        mask = cv2.resize(o_img_mask, (dog_width, dog_height), interpolation = cv2.INTER_AREA)\n",
    "        mask_inv = cv2.resize(o_img_mask_inv, (dog_width, dog_height), interpolation = cv2.INTER_AREA)\n",
    "\n",
    "        #take ROI for dog_img from background that is equal to size of dog_img image\n",
    "        roi = frame[dog_y1:dog_y2, dog_x1:dog_x2]\n",
    "\n",
    "        #original image in background (bg) where dog_img is not\n",
    "        roi_bg = cv2.bitwise_and(roi, roi, mask = mask)\n",
    "        roi_fg = cv2.bitwise_and(dog, dog, mask = mask_inv)\n",
    "        dst = cv2.add(roi_bg,roi_fg)\n",
    "        \n",
    "        frame[dog_y1:dog_y2, dog_x1:dog_x2] = dst\n",
    "\n",
    "        # Display the resulting frame\n",
    "    cv2.imshow('Face Video', frame)\n",
    "    if cv2.waitKey(1) & 0xFF == ord('q'):\n",
    "        break\n",
    "video_capture.release()\n",
    "cv2.destroyAllWindows()"
   ]
  }
 ],
 "metadata": {
  "kernelspec": {
   "display_name": "Python 3.10.8 64-bit (microsoft store)",
   "language": "python",
   "name": "python3"
  },
  "language_info": {
   "codemirror_mode": {
    "name": "ipython",
    "version": 3
   },
   "file_extension": ".py",
   "mimetype": "text/x-python",
   "name": "python",
   "nbconvert_exporter": "python",
   "pygments_lexer": "ipython3",
   "version": "3.10.8"
  },
  "vscode": {
   "interpreter": {
    "hash": "1d208fc92f63bff2dd80c97ffe5a57d134e87b05d2dbf0af794face5bab8487c"
   }
  }
 },
 "nbformat": 4,
 "nbformat_minor": 4
}
